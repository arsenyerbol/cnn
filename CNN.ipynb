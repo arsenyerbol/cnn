{
 "cells": [
  {
   "cell_type": "code",
   "execution_count": 1,
   "metadata": {
    "colab": {},
    "colab_type": "code",
    "id": "6zIBuu2MN6S9"
   },
   "outputs": [
    {
     "name": "stderr",
     "output_type": "stream",
     "text": [
      "Using TensorFlow backend.\n"
     ]
    }
   ],
   "source": [
    "# Importing the Keras libraries and packages\n",
    "from keras.models import Sequential\n",
    "from keras.layers import Convolution2D\n",
    "from keras.layers import MaxPooling2D\n",
    "from keras.layers import Flatten\n",
    "from keras.layers import Dense"
   ]
  },
  {
   "cell_type": "code",
   "execution_count": 2,
   "metadata": {
    "colab": {},
    "colab_type": "code",
    "id": "I2r6xxqKOGUr"
   },
   "outputs": [],
   "source": [
    "classifier = Sequential()"
   ]
  },
  {
   "cell_type": "code",
   "execution_count": 3,
   "metadata": {
    "colab": {
     "base_uri": "https://localhost:8080/",
     "height": 70
    },
    "colab_type": "code",
    "id": "ZqivkEMdOu20",
    "outputId": "5ce7d38c-755f-4805-e13a-601dd1157a18"
   },
   "outputs": [
    {
     "name": "stderr",
     "output_type": "stream",
     "text": [
      "C:\\Anaconda\\lib\\site-packages\\ipykernel_launcher.py:2: UserWarning: Update your `Conv2D` call to the Keras 2 API: `Conv2D(32, (3, 3), input_shape=(64, 64, 3..., activation=\"relu\")`\n",
      "  \n"
     ]
    }
   ],
   "source": [
    "# Step 1 - Convolution\n",
    "classifier.add(Convolution2D(32, 3, 3, input_shape = (64, 64, 3), activation = 'relu'))"
   ]
  },
  {
   "cell_type": "code",
   "execution_count": 4,
   "metadata": {
    "colab": {},
    "colab_type": "code",
    "id": "PB910FxEORVU"
   },
   "outputs": [],
   "source": [
    "# Step 2 - Pooling\n",
    "classifier.add(MaxPooling2D(pool_size = (2, 2)))"
   ]
  },
  {
   "cell_type": "code",
   "execution_count": 5,
   "metadata": {
    "colab": {
     "base_uri": "https://localhost:8080/",
     "height": 70
    },
    "colab_type": "code",
    "id": "ViNl0AwpORzo",
    "outputId": "a55ba32e-33ab-499d-aa3c-fa6c8cbb684f"
   },
   "outputs": [
    {
     "name": "stderr",
     "output_type": "stream",
     "text": [
      "C:\\Anaconda\\lib\\site-packages\\ipykernel_launcher.py:2: UserWarning: Update your `Conv2D` call to the Keras 2 API: `Conv2D(32, (3, 3), activation=\"relu\")`\n",
      "  \n"
     ]
    }
   ],
   "source": [
    "# Adding a second convolutional layer\n",
    "classifier.add(Convolution2D(32, 3, 3, activation = 'relu'))\n",
    "classifier.add(MaxPooling2D(pool_size = (2, 2)))"
   ]
  },
  {
   "cell_type": "code",
   "execution_count": 6,
   "metadata": {
    "colab": {},
    "colab_type": "code",
    "id": "_joYnwEhOR1K"
   },
   "outputs": [],
   "source": [
    "# Step 3 - Flattening\n",
    "classifier.add(Flatten())"
   ]
  },
  {
   "cell_type": "code",
   "execution_count": 7,
   "metadata": {
    "colab": {
     "base_uri": "https://localhost:8080/",
     "height": 104
    },
    "colab_type": "code",
    "id": "tUW1-UZOOR4y",
    "outputId": "7287dc73-6d58-47cd-bf06-8ed9d895530a"
   },
   "outputs": [
    {
     "name": "stderr",
     "output_type": "stream",
     "text": [
      "C:\\Anaconda\\lib\\site-packages\\ipykernel_launcher.py:2: UserWarning: Update your `Dense` call to the Keras 2 API: `Dense(activation=\"relu\", units=128)`\n",
      "  \n",
      "C:\\Anaconda\\lib\\site-packages\\ipykernel_launcher.py:3: UserWarning: Update your `Dense` call to the Keras 2 API: `Dense(activation=\"sigmoid\", units=1)`\n",
      "  This is separate from the ipykernel package so we can avoid doing imports until\n"
     ]
    }
   ],
   "source": [
    "# Step 4 - Full connection\n",
    "classifier.add(Dense(output_dim = 128, activation = 'relu'))\n",
    "classifier.add(Dense(output_dim = 1, activation = 'sigmoid'))"
   ]
  },
  {
   "cell_type": "code",
   "execution_count": 8,
   "metadata": {
    "colab": {},
    "colab_type": "code",
    "id": "_nEzg5ZsOR6t"
   },
   "outputs": [],
   "source": [
    "# Compiling the CNN\n",
    "classifier.compile(optimizer = 'adam', loss = 'binary_crossentropy', metrics = ['accuracy'])"
   ]
  },
  {
   "cell_type": "code",
   "execution_count": 9,
   "metadata": {
    "colab": {},
    "colab_type": "code",
    "id": "mRklSWHpOR-S"
   },
   "outputs": [],
   "source": [
    "# Part 2 - Fitting the CNN to the images\n",
    "from keras.preprocessing.image import ImageDataGenerator\n",
    "train_datagen = ImageDataGenerator(rescale = 1./255,\n",
    "                                   shear_range = 0.2,\n",
    "                                   zoom_range = 0.2,\n",
    "                                   horizontal_flip = True)\n",
    "\n",
    "test_datagen = ImageDataGenerator(rescale = 1./255)"
   ]
  },
  {
   "cell_type": "code",
   "execution_count": 10,
   "metadata": {
    "colab": {
     "base_uri": "https://localhost:8080/",
     "height": 390
    },
    "colab_type": "code",
    "id": "-xLF4CfXOSAX",
    "outputId": "5b319a51-08fa-4e38-c47c-282cd7e85745"
   },
   "outputs": [
    {
     "name": "stdout",
     "output_type": "stream",
     "text": [
      "Found 8000 images belonging to 2 classes.\n",
      "Found 2000 images belonging to 2 classes.\n"
     ]
    },
    {
     "name": "stderr",
     "output_type": "stream",
     "text": [
      "C:\\Anaconda\\lib\\site-packages\\ipykernel_launcher.py:15: UserWarning: The semantics of the Keras 2 argument `steps_per_epoch` is not the same as the Keras 1 argument `samples_per_epoch`. `steps_per_epoch` is the number of batches to draw from the generator at each epoch. Basically steps_per_epoch = samples_per_epoch/batch_size. Similarly `nb_val_samples`->`validation_steps` and `val_samples`->`steps` arguments have changed. Update your method calls accordingly.\n",
      "  from ipykernel import kernelapp as app\n",
      "C:\\Anaconda\\lib\\site-packages\\ipykernel_launcher.py:15: UserWarning: Update your `fit_generator` call to the Keras 2 API: `fit_generator(<keras_pre..., validation_data=<keras_pre..., steps_per_epoch=250, epochs=25, validation_steps=2000)`\n",
      "  from ipykernel import kernelapp as app\n"
     ]
    },
    {
     "name": "stdout",
     "output_type": "stream",
     "text": [
      "Epoch 1/25\n",
      "250/250 [==============================] - 358s 1s/step - loss: 0.6864 - acc: 0.5561 - val_loss: 0.6557 - val_acc: 0.5985\n",
      "Epoch 2/25\n",
      "250/250 [==============================] - 318s 1s/step - loss: 0.6225 - acc: 0.6625 - val_loss: 0.6017 - val_acc: 0.6773\n",
      "Epoch 3/25\n",
      "250/250 [==============================] - 315s 1s/step - loss: 0.5756 - acc: 0.6975 - val_loss: 0.5452 - val_acc: 0.7202\n",
      "Epoch 4/25\n",
      "250/250 [==============================] - 316s 1s/step - loss: 0.5428 - acc: 0.7285 - val_loss: 0.5817 - val_acc: 0.7128\n",
      "Epoch 5/25\n",
      "250/250 [==============================] - 316s 1s/step - loss: 0.5204 - acc: 0.7390 - val_loss: 0.6060 - val_acc: 0.6979\n",
      "Epoch 6/25\n",
      "250/250 [==============================] - 313s 1s/step - loss: 0.4982 - acc: 0.7538 - val_loss: 0.4918 - val_acc: 0.7622\n",
      "Epoch 7/25\n",
      "250/250 [==============================] - 323s 1s/step - loss: 0.4852 - acc: 0.7620 - val_loss: 0.4891 - val_acc: 0.7684\n",
      "Epoch 8/25\n",
      "250/250 [==============================] - 313s 1s/step - loss: 0.4702 - acc: 0.7734 - val_loss: 0.4859 - val_acc: 0.7666\n",
      "Epoch 9/25\n",
      "250/250 [==============================] - 286s 1s/step - loss: 0.4573 - acc: 0.7836 - val_loss: 0.4988 - val_acc: 0.7593\n",
      "Epoch 10/25\n",
      "250/250 [==============================] - 284s 1s/step - loss: 0.4426 - acc: 0.7940 - val_loss: 0.4639 - val_acc: 0.7802\n",
      "Epoch 11/25\n",
      "250/250 [==============================] - 285s 1s/step - loss: 0.4427 - acc: 0.7934 - val_loss: 0.4486 - val_acc: 0.7919\n",
      "Epoch 12/25\n",
      "250/250 [==============================] - 286s 1s/step - loss: 0.4222 - acc: 0.8033 - val_loss: 0.4685 - val_acc: 0.7838\n",
      "Epoch 13/25\n",
      "250/250 [==============================] - 286s 1s/step - loss: 0.4116 - acc: 0.8095 - val_loss: 0.4279 - val_acc: 0.8001\n",
      "Epoch 14/25\n",
      "250/250 [==============================] - 286s 1s/step - loss: 0.4112 - acc: 0.8121 - val_loss: 0.4565 - val_acc: 0.8024\n",
      "Epoch 15/25\n",
      "250/250 [==============================] - 285s 1s/step - loss: 0.3900 - acc: 0.8231 - val_loss: 0.4730 - val_acc: 0.7979\n",
      "Epoch 16/25\n",
      "250/250 [==============================] - 285s 1s/step - loss: 0.3921 - acc: 0.8204 - val_loss: 0.4468 - val_acc: 0.7946\n",
      "Epoch 17/25\n",
      "250/250 [==============================] - 286s 1s/step - loss: 0.3865 - acc: 0.8235 - val_loss: 0.4503 - val_acc: 0.7994\n",
      "Epoch 18/25\n",
      "250/250 [==============================] - 285s 1s/step - loss: 0.3756 - acc: 0.8295 - val_loss: 0.4500 - val_acc: 0.8037\n",
      "Epoch 19/25\n",
      "250/250 [==============================] - 286s 1s/step - loss: 0.3630 - acc: 0.8345 - val_loss: 0.4528 - val_acc: 0.8066\n",
      "Epoch 20/25\n",
      "250/250 [==============================] - 286s 1s/step - loss: 0.3634 - acc: 0.8366 - val_loss: 0.4413 - val_acc: 0.8088\n",
      "Epoch 21/25\n",
      "250/250 [==============================] - 285s 1s/step - loss: 0.3606 - acc: 0.8390 - val_loss: 0.4327 - val_acc: 0.7997\n",
      "Epoch 22/25\n",
      "250/250 [==============================] - 285s 1s/step - loss: 0.3495 - acc: 0.8438 - val_loss: 0.4427 - val_acc: 0.8051\n",
      "Epoch 23/25\n",
      "250/250 [==============================] - 285s 1s/step - loss: 0.3348 - acc: 0.8495 - val_loss: 0.4633 - val_acc: 0.8056\n",
      "Epoch 24/25\n",
      "250/250 [==============================] - 285s 1s/step - loss: 0.3430 - acc: 0.8491 - val_loss: 0.4344 - val_acc: 0.8141\n",
      "Epoch 25/25\n",
      "250/250 [==============================] - 293s 1s/step - loss: 0.3289 - acc: 0.8543 - val_loss: 0.4528 - val_acc: 0.8004\n"
     ]
    },
    {
     "data": {
      "text/plain": [
       "<keras.callbacks.History at 0x265efdeb4e0>"
      ]
     },
     "execution_count": 10,
     "metadata": {},
     "output_type": "execute_result"
    }
   ],
   "source": [
    "training_set = train_datagen.flow_from_directory('dataset/training_set',\n",
    "                                                 target_size = (64, 64),\n",
    "                                                 batch_size = 32,\n",
    "                                                 class_mode = 'binary')\n",
    "\n",
    "test_set = test_datagen.flow_from_directory('dataset/test_set',\n",
    "                                            target_size = (64, 64),\n",
    "                                            batch_size = 32,\n",
    "                                            class_mode = 'binary')\n",
    "\n",
    "classifier.fit_generator(training_set,\n",
    "                         samples_per_epoch = 8000,\n",
    "                         nb_epoch = 25,\n",
    "                         validation_data = test_set,\n",
    "                         nb_val_samples = 2000)"
   ]
  }
 ],
 "metadata": {
  "colab": {
   "collapsed_sections": [],
   "name": "CNN.ipynb",
   "provenance": [],
   "version": "0.3.2"
  },
  "kernelspec": {
   "display_name": "Python 3",
   "language": "python",
   "name": "python3"
  },
  "language_info": {
   "codemirror_mode": {
    "name": "ipython",
    "version": 3
   },
   "file_extension": ".py",
   "mimetype": "text/x-python",
   "name": "python",
   "nbconvert_exporter": "python",
   "pygments_lexer": "ipython3",
   "version": "3.6.4"
  }
 },
 "nbformat": 4,
 "nbformat_minor": 1
}
